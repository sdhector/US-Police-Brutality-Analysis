{
 "cells": [
  {
   "cell_type": "markdown",
   "metadata": {},
   "source": [
    "# Police Brutality and Crime:\n",
    "This notebook explores the relationship between the how high the crime-rate in an area is and how much Police Brutality there is. First step is identifying good sources of data at least at the zip code level for Crime and Police Brutality. \n",
    "\n",
    "For Police Brutality I found an excellent resource in [Mapping Violence](https://mappingpoliceviolence.org/aboutthedata). In their methodology they refer to their main sources as: \n",
    "- Fatal Encounters: https://fatalencounters.org/\n",
    "- U.S. Police Shooting Data: https://docs.google.com/spreadsheets/d/1cEGQ3eAFKpFBVq1k2mZIy5mBPxC6nBTJHzuSWtZQSVw/edit#gid=1144428085\n",
    "- Killed by Police: https://killedbypolice.net/\n",
    "\n",
    "Next up, what is necessary is data on crimes across time and at the zip code level. So far, I have only been able to find [City Data](https://www.city-data.com). \n",
    "\n",
    "The main source of crime data should be the [FBI Uniform Crime Reporting (UCR)](https://www.fbi.gov/services/cjis/ucr/publications) data. It contains information for each Police Agency, which now needs to be mapped to the zip code. Alternatively, it contains data for each Metropolitan Statistical Area. I recommend the Police Agency Name and reverse geocode it to get the zipcode. \n",
    "\n",
    "One other thing that's missing is the distribution of ethnicity for each zip code. \n"
   ]
  },
  {
   "cell_type": "markdown",
   "metadata": {},
   "source": [
    "## Disclaimer\n",
    "First of all, it's important to say that my motivation is not to justify the fact these events happen. In a perfect world, they wouldn't occur. However, we have to live with the fact that accidents occur. The claim I make is that these are mostly accidents. The narrative nowadays is rather that they are intentional - racist. \n",
    "\n",
    "If that's the case, you would want the strongest possible evidence backing your claim and that is only achievable by trying to reject the racism and intentional hypothesis. \n",
    "\n",
    "One strong argument against the narrative in my opinion, is that there is a non-zero change of someone dying at the hands at the police and that the more encounters you have with the police the higher the risk of eventually dying at their hands. \n",
    "\n",
    "The question is then, whether white and blacks face equal amount of encounters with the police. If they did, and the disparity persisted, that would fail to reject the racism hypothesis. My attempt is simply to test that. \n",
    "\n",
    "The way to do so, is by first studying the relationship between encounters and previous crime. When crime rates go up, more police is deployed, which then creates more encounters and increases risk of dying at the hands of the police. This happens at a very granular geographical level - zip codes. \n",
    "\n",
    "This would suggest that: 1) areas with higher crime rates will tend to have higher police killings. 2) areas with recent increases in crime rates will have higher police brutality cases. The effect therefore exists across space and time. \n",
    "\n",
    "There's another variable that changes across space and time: race distributions. How many people live in a given zip code of each race? If the areas that have higher crime rates are black, then adjusting for crime rate we should be able to close the gap. This can help identify areas where, in spite of having majority white, the crime rate is sufficiently large that police killing of white is high. \n",
    "\n"
   ]
  }
 ],
 "metadata": {
  "kernelspec": {
   "display_name": "Python 3",
   "language": "python",
   "name": "python3"
  },
  "language_info": {
   "codemirror_mode": {
    "name": "ipython",
    "version": 3
   },
   "file_extension": ".py",
   "mimetype": "text/x-python",
   "name": "python",
   "nbconvert_exporter": "python",
   "pygments_lexer": "ipython3",
   "version": "3.7.7"
  }
 },
 "nbformat": 4,
 "nbformat_minor": 4
}
